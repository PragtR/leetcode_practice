{
 "cells": [
  {
   "cell_type": "markdown",
   "id": "eea4c380",
   "metadata": {},
   "source": [
    "Problem 628"
   ]
  },
  {
   "cell_type": "code",
   "execution_count": 3,
   "id": "918e5a73",
   "metadata": {},
   "outputs": [],
   "source": [
    "def maximumProduct(nums):\n",
    "        \n",
    "        sorted_nums = sorted (nums)\n",
    "        #sorts the numbers in ascending order\n",
    "        \n",
    "        return max(sorted_nums[0] * sorted_nums[1] * sorted_nums[-1] , sorted_nums[-1] * sorted_nums[-2] * sorted_nums[-3])\n",
    "    \n",
    "# multiplyng 0,1,-1 indexed numbers might give maximum product when the first two items in sorted_nums list is negative and the last number is positive\n",
    "# multiplyng -1,-2,-3 indexed numbers might give maximum product as the items are sorted in ascending order"
   ]
  },
  {
   "cell_type": "markdown",
   "id": "04ef7ce2",
   "metadata": {},
   "source": [
    "Problem 1672"
   ]
  },
  {
   "cell_type": "code",
   "execution_count": 6,
   "id": "b515b5ea",
   "metadata": {},
   "outputs": [],
   "source": [
    "def maximumWealth(accounts):\n",
    "        \n",
    "        sums = []\n",
    "        \n",
    "        for items in accounts:\n",
    "            sums.append (sum(items))\n",
    "\n",
    "        return max(sums)\n",
    "\n",
    "# the empty sums list is appended with the sum of the each sub-lists present in the main accounts list"
   ]
  },
  {
   "cell_type": "markdown",
   "id": "39398312",
   "metadata": {},
   "source": [
    "Problem 1470"
   ]
  },
  {
   "cell_type": "code",
   "execution_count": 7,
   "id": "b6d77f2c",
   "metadata": {},
   "outputs": [],
   "source": [
    "def shuffle(nums, n):\n",
    "        \n",
    "        output = []\n",
    "        \n",
    "        for i in range (n):\n",
    "            \n",
    "            output.append (nums [i])\n",
    "            output.append (nums [i + n])\n",
    "            \n",
    "        return output\n",
    "\n",
    "# the empty output list is appended with i indexed number (i.e. x) first, and then with i+n indexed number where y starts"
   ]
  },
  {
   "cell_type": "markdown",
   "id": "4efaa11e",
   "metadata": {},
   "source": [
    "Problem 367"
   ]
  },
  {
   "cell_type": "code",
   "execution_count": 21,
   "id": "9e79c168",
   "metadata": {},
   "outputs": [],
   "source": [
    "def isPerfectSquare(num):\n",
    "        \n",
    "        return int(num**0.5)==(num**0.5)\n",
    "    \n",
    "# checks if the square root of num is an integer or not"
   ]
  }
 ],
 "metadata": {
  "kernelspec": {
   "display_name": "Python 3",
   "language": "python",
   "name": "python3"
  },
  "language_info": {
   "codemirror_mode": {
    "name": "ipython",
    "version": 3
   },
   "file_extension": ".py",
   "mimetype": "text/x-python",
   "name": "python",
   "nbconvert_exporter": "python",
   "pygments_lexer": "ipython3",
   "version": "3.8.8"
  }
 },
 "nbformat": 4,
 "nbformat_minor": 5
}
