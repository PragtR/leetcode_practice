{
 "cells": [
  {
   "cell_type": "markdown",
   "id": "eea4c380",
   "metadata": {},
   "source": [
    "Problem 628"
   ]
  },
  {
   "cell_type": "code",
   "execution_count": 2,
   "id": "918e5a73",
   "metadata": {},
   "outputs": [],
   "source": [
    "def maximumProduct(nums):\n",
    "        \n",
    "        sorted_nums = sorted (nums)\n",
    "        #sorts the numbers in ascending order\n",
    "        \n",
    "        return max(sorted_nums[0] * sorted_nums[1] * sorted_nums[-1] , sorted_nums[-1] * sorted_nums[-2] * sorted_nums[-3])\n",
    "    \n",
    "# multiplyng 0,1,-1 indexed numbers might give maximum product when the first two items in sorted_nums list is negative and the last number is positive\n",
    "# multiplyng -1,-2,-3 indexed numbers might give maximum product as the items are sorted in ascending order"
   ]
  },
  {
   "cell_type": "code",
   "execution_count": 6,
   "id": "ae9d10a0",
   "metadata": {},
   "outputs": [
    {
     "data": {
      "text/plain": [
       "180"
      ]
     },
     "execution_count": 6,
     "metadata": {},
     "output_type": "execute_result"
    }
   ],
   "source": [
    "maximumProduct ([4,5,2,4,2,4,9]) # should be 180"
   ]
  },
  {
   "cell_type": "code",
   "execution_count": 7,
   "id": "0226ecbd",
   "metadata": {},
   "outputs": [
    {
     "data": {
      "text/plain": [
       "288"
      ]
     },
     "execution_count": 7,
     "metadata": {},
     "output_type": "execute_result"
    }
   ],
   "source": [
    "maximumProduct ([-4,-8,2,4,2,4,9]) # should be 288"
   ]
  },
  {
   "cell_type": "markdown",
   "id": "04ef7ce2",
   "metadata": {},
   "source": [
    "Problem 1672"
   ]
  },
  {
   "cell_type": "code",
   "execution_count": 9,
   "id": "b515b5ea",
   "metadata": {},
   "outputs": [],
   "source": [
    "def maximumWealth(accounts):\n",
    "        \n",
    "        sums = []\n",
    "        \n",
    "        for items in accounts:\n",
    "            sums.append (sum(items))\n",
    "\n",
    "        return max(sums)\n",
    "\n",
    "# the empty sums list is appended with the sum of the each sub-lists present in the main accounts list"
   ]
  },
  {
   "cell_type": "code",
   "execution_count": 10,
   "id": "1bc9980e",
   "metadata": {},
   "outputs": [
    {
     "data": {
      "text/plain": [
       "17"
      ]
     },
     "execution_count": 10,
     "metadata": {},
     "output_type": "execute_result"
    }
   ],
   "source": [
    "maximumWealth ([[2,8,7],[7,1,3],[1,9,5]]) #should be 17"
   ]
  },
  {
   "cell_type": "code",
   "execution_count": 11,
   "id": "8f95bbc6",
   "metadata": {},
   "outputs": [
    {
     "data": {
      "text/plain": [
       "10"
      ]
     },
     "execution_count": 11,
     "metadata": {},
     "output_type": "execute_result"
    }
   ],
   "source": [
    "maximumWealth ([[1,5],[7,3],[3,5]]) #should be 10"
   ]
  },
  {
   "cell_type": "markdown",
   "id": "39398312",
   "metadata": {},
   "source": [
    "Problem 1470"
   ]
  },
  {
   "cell_type": "code",
   "execution_count": 12,
   "id": "b6d77f2c",
   "metadata": {},
   "outputs": [],
   "source": [
    "def shuffle(nums, n):\n",
    "        \n",
    "        output = []\n",
    "        \n",
    "        for i in range (n):\n",
    "            \n",
    "            output.append (nums [i])\n",
    "            output.append (nums [i + n])\n",
    "            \n",
    "        return output\n",
    "\n",
    "# the empty output list is appended with i indexed number (i.e. x) first, and then with i+n indexed number where y starts"
   ]
  },
  {
   "cell_type": "code",
   "execution_count": 14,
   "id": "8c4c2b9b",
   "metadata": {},
   "outputs": [
    {
     "data": {
      "text/plain": [
       "[2, 3, 5, 4, 1, 7]"
      ]
     },
     "execution_count": 14,
     "metadata": {},
     "output_type": "execute_result"
    }
   ],
   "source": [
    "shuffle ([2,5,1,3,4,7], 3) # should be [2,3,5,4,1,7]"
   ]
  },
  {
   "cell_type": "code",
   "execution_count": 15,
   "id": "8e4fd4ea",
   "metadata": {},
   "outputs": [
    {
     "data": {
      "text/plain": [
       "[1, 2, 1, 2]"
      ]
     },
     "execution_count": 15,
     "metadata": {},
     "output_type": "execute_result"
    }
   ],
   "source": [
    "shuffle([1,1,2,2], 2) # should be [1,2,1,2]"
   ]
  },
  {
   "cell_type": "markdown",
   "id": "4efaa11e",
   "metadata": {},
   "source": [
    "Problem 367"
   ]
  },
  {
   "cell_type": "code",
   "execution_count": 17,
   "id": "9e79c168",
   "metadata": {},
   "outputs": [],
   "source": [
    "def isPerfectSquare(num):\n",
    "        \n",
    "        return int(num**0.5)==(num**0.5)\n",
    "    \n",
    "# checks if the square root of num is an integer or not"
   ]
  },
  {
   "cell_type": "code",
   "execution_count": 18,
   "id": "e8d6ac4b",
   "metadata": {},
   "outputs": [
    {
     "data": {
      "text/plain": [
       "False"
      ]
     },
     "execution_count": 18,
     "metadata": {},
     "output_type": "execute_result"
    }
   ],
   "source": [
    "isPerfectSquare(14) # should be false"
   ]
  },
  {
   "cell_type": "code",
   "execution_count": 19,
   "id": "9663d66f",
   "metadata": {},
   "outputs": [
    {
     "data": {
      "text/plain": [
       "True"
      ]
     },
     "execution_count": 19,
     "metadata": {},
     "output_type": "execute_result"
    }
   ],
   "source": [
    "isPerfectSquare(121) # should be true"
   ]
  }
 ],
 "metadata": {
  "kernelspec": {
   "display_name": "Python 3",
   "language": "python",
   "name": "python3"
  },
  "language_info": {
   "codemirror_mode": {
    "name": "ipython",
    "version": 3
   },
   "file_extension": ".py",
   "mimetype": "text/x-python",
   "name": "python",
   "nbconvert_exporter": "python",
   "pygments_lexer": "ipython3",
   "version": "3.8.8"
  }
 },
 "nbformat": 4,
 "nbformat_minor": 5
}
