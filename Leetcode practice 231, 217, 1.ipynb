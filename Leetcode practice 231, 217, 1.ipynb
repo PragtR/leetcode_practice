{
 "cells": [
  {
   "cell_type": "markdown",
   "id": "bf19f5a6",
   "metadata": {},
   "source": [
    "231. Power of Two"
   ]
  },
  {
   "cell_type": "code",
   "execution_count": 33,
   "id": "353a0176",
   "metadata": {},
   "outputs": [],
   "source": [
    "import math\n",
    "\n",
    "def isPowerOfTwo(n):\n",
    "\n",
    "    if n <= 0:         \n",
    "        return False    # negative numbers cannot be a power of two\n",
    "\n",
    "    x = math.log(n)/math.log(2)\n",
    "    return n == 2**int(x)"
   ]
  },
  {
   "cell_type": "code",
   "execution_count": 34,
   "id": "7d34900b",
   "metadata": {},
   "outputs": [
    {
     "data": {
      "text/plain": [
       "False"
      ]
     },
     "execution_count": 34,
     "metadata": {},
     "output_type": "execute_result"
    }
   ],
   "source": [
    "isPowerOfTwo (5) # expected False"
   ]
  },
  {
   "cell_type": "code",
   "execution_count": 35,
   "id": "2d35bdf0",
   "metadata": {},
   "outputs": [
    {
     "data": {
      "text/plain": [
       "False"
      ]
     },
     "execution_count": 35,
     "metadata": {},
     "output_type": "execute_result"
    }
   ],
   "source": [
    "isPowerOfTwo (-3) # expected False"
   ]
  },
  {
   "cell_type": "code",
   "execution_count": 36,
   "id": "c135e282",
   "metadata": {
    "scrolled": true
   },
   "outputs": [
    {
     "data": {
      "text/plain": [
       "True"
      ]
     },
     "execution_count": 36,
     "metadata": {},
     "output_type": "execute_result"
    }
   ],
   "source": [
    "isPowerOfTwo (32) # expected True"
   ]
  },
  {
   "cell_type": "markdown",
   "id": "3008f84e",
   "metadata": {},
   "source": [
    "217. Contains Duplicate"
   ]
  },
  {
   "cell_type": "code",
   "execution_count": 37,
   "id": "7d8bdccc",
   "metadata": {},
   "outputs": [],
   "source": [
    "def containsDuplicate(nums):\n",
    "\n",
    "    decisions = []  # contains the list of Trues and Falses\n",
    "\n",
    "    for i in nums:\n",
    "        for n in range(len(nums)):\n",
    "            decisions.append (i != nums[n])\n",
    "\n",
    "    if decisions.count(False) == len(nums): \n",
    "        print (False)\n",
    "    else:\n",
    "        print (True)\n",
    "        \n",
    "# Here a number is first taken from nums and then matched with each item of nums list.\n",
    "# If there are no duplicates, then the number of Falses would be equal to number of items in nums list"
   ]
  },
  {
   "cell_type": "code",
   "execution_count": 38,
   "id": "d7cc33d3",
   "metadata": {},
   "outputs": [
    {
     "name": "stdout",
     "output_type": "stream",
     "text": [
      "True\n"
     ]
    }
   ],
   "source": [
    "containsDuplicate([1,2,3,2,3]) #should be True"
   ]
  },
  {
   "cell_type": "code",
   "execution_count": 39,
   "id": "af603144",
   "metadata": {},
   "outputs": [
    {
     "name": "stdout",
     "output_type": "stream",
     "text": [
      "False\n"
     ]
    }
   ],
   "source": [
    "containsDuplicate([1,5,6,7,8]) #should be False"
   ]
  },
  {
   "cell_type": "markdown",
   "id": "c1836249",
   "metadata": {},
   "source": [
    "1. Two Sum"
   ]
  },
  {
   "cell_type": "code",
   "execution_count": 40,
   "id": "2174d792",
   "metadata": {},
   "outputs": [],
   "source": [
    "def twoSum(nums, target):\n",
    "    for i in nums:\n",
    "        for n in range(len(nums)):\n",
    "            if i + nums[n] == target:\n",
    "                index_i = nums.index(i)\n",
    "                \n",
    "                print ([index_i, n])\n",
    "    return"
   ]
  },
  {
   "cell_type": "code",
   "execution_count": 41,
   "id": "56f7b204",
   "metadata": {},
   "outputs": [
    {
     "name": "stdout",
     "output_type": "stream",
     "text": [
      "[1, 4]\n",
      "[4, 1]\n"
     ]
    }
   ],
   "source": [
    "twoSum ([1,7,11,15,2], 9) # expected indices are 1 and 4"
   ]
  },
  {
   "cell_type": "code",
   "execution_count": 42,
   "id": "c8c699bb",
   "metadata": {},
   "outputs": [
    {
     "name": "stdout",
     "output_type": "stream",
     "text": [
      "[3, 4]\n",
      "[4, 3]\n"
     ]
    }
   ],
   "source": [
    "twoSum ([1,7,11,15,2], 17) # expected indices are 3 and 4"
   ]
  }
 ],
 "metadata": {
  "kernelspec": {
   "display_name": "Python 3",
   "language": "python",
   "name": "python3"
  },
  "language_info": {
   "codemirror_mode": {
    "name": "ipython",
    "version": 3
   },
   "file_extension": ".py",
   "mimetype": "text/x-python",
   "name": "python",
   "nbconvert_exporter": "python",
   "pygments_lexer": "ipython3",
   "version": "3.8.8"
  }
 },
 "nbformat": 4,
 "nbformat_minor": 5
}
